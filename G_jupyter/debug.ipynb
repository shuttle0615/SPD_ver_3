{
 "cells": [
  {
   "cell_type": "code",
   "execution_count": 1,
   "metadata": {},
   "outputs": [
    {
     "name": "stdout",
     "output_type": "stream",
     "text": [
      "[Errno 2] No such file or directory: '/home/kyuholee/SPD_ver_3'\n",
      "/content/drive/MyDrive/Auto_trading/SPD_ver_3/G_jupyter\n"
     ]
    },
    {
     "ename": "ModuleNotFoundError",
     "evalue": "No module named 'B_data'",
     "output_type": "error",
     "traceback": [
      "\u001b[0;31m---------------------------------------------------------------------------\u001b[0m",
      "\u001b[0;31mModuleNotFoundError\u001b[0m                       Traceback (most recent call last)",
      "\u001b[0;32m/tmp/ipykernel_84390/1357837108.py\u001b[0m in \u001b[0;36m<cell line: 3>\u001b[0;34m()\u001b[0m\n\u001b[1;32m      1\u001b[0m \u001b[0mget_ipython\u001b[0m\u001b[0;34m(\u001b[0m\u001b[0;34m)\u001b[0m\u001b[0;34m.\u001b[0m\u001b[0mrun_line_magic\u001b[0m\u001b[0;34m(\u001b[0m\u001b[0;34m'cd'\u001b[0m\u001b[0;34m,\u001b[0m \u001b[0;34m'/home/kyuholee/SPD_ver_3'\u001b[0m\u001b[0;34m)\u001b[0m\u001b[0;34m\u001b[0m\u001b[0;34m\u001b[0m\u001b[0m\n\u001b[1;32m      2\u001b[0m \u001b[0;32mimport\u001b[0m \u001b[0mtorch\u001b[0m\u001b[0;34m\u001b[0m\u001b[0;34m\u001b[0m\u001b[0m\n\u001b[0;32m----> 3\u001b[0;31m \u001b[0;32mfrom\u001b[0m \u001b[0mB_data\u001b[0m\u001b[0;34m.\u001b[0m\u001b[0miii_datamodule\u001b[0m \u001b[0;32mimport\u001b[0m \u001b[0mstockDataModule\u001b[0m\u001b[0;34m\u001b[0m\u001b[0;34m\u001b[0m\u001b[0m\n\u001b[0m\u001b[1;32m      4\u001b[0m \u001b[0;32mfrom\u001b[0m \u001b[0momegaconf\u001b[0m \u001b[0;32mimport\u001b[0m \u001b[0mOmegaConf\u001b[0m\u001b[0;34m\u001b[0m\u001b[0;34m\u001b[0m\u001b[0m\n\u001b[1;32m      5\u001b[0m \u001b[0;34m\u001b[0m\u001b[0m\n",
      "\u001b[0;31mModuleNotFoundError\u001b[0m: No module named 'B_data'",
      "",
      "\u001b[0;31m---------------------------------------------------------------------------\u001b[0;32m\nNOTE: If your import is failing due to a missing package, you can\nmanually install dependencies using either !pip or !apt.\n\nTo view examples of installing some common dependencies, click the\n\"Open Examples\" button below.\n\u001b[0;31m---------------------------------------------------------------------------\u001b[0m\n"
     ]
    }
   ],
   "source": [
    "%cd /home/kyuholee/SPD_ver_3\n",
    "import torch\n",
    "from B_data.iii_datamodule import stockDataModule\n",
    "from omegaconf import OmegaConf\n",
    "\n",
    "name = 'transformer_classification/exp_4'\n",
    "n = 4\n",
    "\n",
    "data_config = OmegaConf.load('/content/drive/MyDrive/Auto_trading/SPD_ver_3/A_config/data_config.yaml')\n",
    "config = OmegaConf.load(f'{data_config.path.config_path}/{name}/setting{n}.yaml')\n",
    "\n",
    "A = stockDataModule(config, data_config)\n"
   ]
  },
  {
   "cell_type": "code",
   "execution_count": null,
   "metadata": {},
   "outputs": [],
   "source": [
    "A.setup()\n",
    "inp = next(iter(A.train_dataloader()))"
   ]
  },
  {
   "cell_type": "code",
   "execution_count": null,
   "metadata": {},
   "outputs": [
    {
     "name": "stdout",
     "output_type": "stream",
     "text": [
      "torch.Size([128, 100, 29])\n"
     ]
    }
   ],
   "source": [
    "print(inp[0].shape)"
   ]
  },
  {
   "cell_type": "code",
   "execution_count": 1,
   "metadata": {},
   "outputs": [
    {
     "name": "stdout",
     "output_type": "stream",
     "text": [
      "/home/kyuholee/SPD_ver_3\n",
      "torch.Size([128, 100, 256])\n",
      "torch.Size([128, 256])\n",
      "torch.Size([128, 3])\n"
     ]
    }
   ],
   "source": [
    "%cd /home/kyuholee/SPD_ver_3\n",
    "import torch\n",
    "from C_model.i_transformer import TransformerModule\n",
    "from omegaconf import OmegaConf\n",
    "\n",
    "name = 'exp_4'\n",
    "n = 4\n",
    "\n",
    "data_config = OmegaConf.load('/home/kyuholee/SPD_ver_3/A_config/data_config.yaml')\n",
    "config = OmegaConf.load(f'{data_config.path.config_path}/{name}/setting{n}.yaml')\n",
    "\n",
    "layer = TransformerModule(config)\n",
    "\n",
    "inp = torch.randn(128, 100, 29)\n",
    "\n",
    "output = layer(inp)\n",
    "#output = torch.nn.functional.softmax(output, dim=1)"
   ]
  },
  {
   "cell_type": "code",
   "execution_count": 2,
   "metadata": {},
   "outputs": [
    {
     "name": "stdout",
     "output_type": "stream",
     "text": [
      "[Errno 2] No such file or directory: '/home/kyuholee/SPD_ver_3'\n",
      "/content/drive/MyDrive/Auto_trading/SPD_ver_3/G_jupyter\n"
     ]
    },
    {
     "ename": "ModuleNotFoundError",
     "evalue": "No module named 'C_model'",
     "output_type": "error",
     "traceback": [
      "\u001b[0;31m---------------------------------------------------------------------------\u001b[0m",
      "\u001b[0;31mModuleNotFoundError\u001b[0m                       Traceback (most recent call last)",
      "\u001b[0;32m/tmp/ipykernel_84390/26395593.py\u001b[0m in \u001b[0;36m<cell line: 3>\u001b[0;34m()\u001b[0m\n\u001b[1;32m      1\u001b[0m \u001b[0mget_ipython\u001b[0m\u001b[0;34m(\u001b[0m\u001b[0;34m)\u001b[0m\u001b[0;34m.\u001b[0m\u001b[0mrun_line_magic\u001b[0m\u001b[0;34m(\u001b[0m\u001b[0;34m'cd'\u001b[0m\u001b[0;34m,\u001b[0m \u001b[0;34m'/home/kyuholee/SPD_ver_3'\u001b[0m\u001b[0;34m)\u001b[0m\u001b[0;34m\u001b[0m\u001b[0;34m\u001b[0m\u001b[0m\n\u001b[1;32m      2\u001b[0m \u001b[0;32mimport\u001b[0m \u001b[0mtorch\u001b[0m\u001b[0;34m\u001b[0m\u001b[0;34m\u001b[0m\u001b[0m\n\u001b[0;32m----> 3\u001b[0;31m \u001b[0;32mfrom\u001b[0m \u001b[0mC_model\u001b[0m\u001b[0;34m.\u001b[0m\u001b[0mii_lstm\u001b[0m \u001b[0;32mimport\u001b[0m \u001b[0mLSTMEncoder\u001b[0m\u001b[0;34m\u001b[0m\u001b[0;34m\u001b[0m\u001b[0m\n\u001b[0m\u001b[1;32m      4\u001b[0m \u001b[0;32mfrom\u001b[0m \u001b[0momegaconf\u001b[0m \u001b[0;32mimport\u001b[0m \u001b[0mOmegaConf\u001b[0m\u001b[0;34m\u001b[0m\u001b[0;34m\u001b[0m\u001b[0m\n\u001b[1;32m      5\u001b[0m \u001b[0;34m\u001b[0m\u001b[0m\n",
      "\u001b[0;31mModuleNotFoundError\u001b[0m: No module named 'C_model'",
      "",
      "\u001b[0;31m---------------------------------------------------------------------------\u001b[0;32m\nNOTE: If your import is failing due to a missing package, you can\nmanually install dependencies using either !pip or !apt.\n\nTo view examples of installing some common dependencies, click the\n\"Open Examples\" button below.\n\u001b[0;31m---------------------------------------------------------------------------\u001b[0m\n"
     ]
    }
   ],
   "source": [
    "%cd /content/drive/MyDrive/Auto_trading/SPD_ver_3\n",
    "import torch\n",
    "from C_model.ii_lstm import LSTMEncoder\n",
    "from omegaconf import OmegaConf\n",
    "\n",
    "args = {\n",
    "    'ninp': 29,\n",
    "    'nhid': 256,\n",
    "    'nlayers': 3,\n",
    "    'dropout': 0.1,\n",
    "    'n_class':3\n",
    "}\n",
    "\n",
    "inp = torch.randn(128, 100, 29)\n",
    "\n",
    "L = LSTMEncoder(args)\n",
    "\n",
    "out = L(inp)"
   ]
  },
  {
   "cell_type": "code",
   "execution_count": 2,
   "metadata": {},
   "outputs": [
    {
     "name": "stdout",
     "output_type": "stream",
     "text": [
      "torch.Size([128, 3])\n"
     ]
    }
   ],
   "source": [
    "print(out.shape)"
   ]
  },
  {
   "cell_type": "code",
   "execution_count": 27,
   "metadata": {},
   "outputs": [
    {
     "name": "stdout",
     "output_type": "stream",
     "text": [
      "tensor([[-0.0365, -0.0371, -0.0525],\n",
      "        [-0.0168, -0.0597, -0.0239],\n",
      "        [-0.0290, -0.0912, -0.0802],\n",
      "        [-0.0337, -0.0534,  0.0112],\n",
      "        [-0.0084, -0.0523, -0.0337],\n",
      "        [-0.0132, -0.0708, -0.0358],\n",
      "        [ 0.0084, -0.0947, -0.0220],\n",
      "        [-0.0576, -0.0702, -0.0324],\n",
      "        [ 0.0200, -0.0572, -0.0310],\n",
      "        [-0.0574, -0.0518, -0.0596]], grad_fn=<SliceBackward0>)\n",
      "tensor([[0.3352, 0.3350, 0.3299],\n",
      "        [0.3389, 0.3246, 0.3365],\n",
      "        [0.3460, 0.3252, 0.3288],\n",
      "        [0.3304, 0.3240, 0.3456],\n",
      "        [0.3411, 0.3264, 0.3325],\n",
      "        [0.3423, 0.3231, 0.3346],\n",
      "        [0.3482, 0.3141, 0.3378],\n",
      "        [0.3319, 0.3277, 0.3403],\n",
      "        [0.3477, 0.3219, 0.3304],\n",
      "        [0.3330, 0.3348, 0.3322]], grad_fn=<SoftmaxBackward0>)\n",
      "tensor(1.0978, grad_fn=<NllLossBackward0>)\n"
     ]
    }
   ],
   "source": [
    "\n",
    "print(output[:10])\n",
    "print(torch.nn.functional.softmax(output[0:10], dim=1))\n",
    "\n",
    "print(torch.nn.functional.cross_entropy(output, inp[1]))"
   ]
  },
  {
   "cell_type": "code",
   "execution_count": 41,
   "metadata": {},
   "outputs": [
    {
     "name": "stdout",
     "output_type": "stream",
     "text": [
      "tensor(0.3203)\n",
      "tensor([0, 2, 0, 2, 1, 1, 0, 0, 0, 1, 1, 1, 2, 1, 1, 1, 1, 1, 0, 2, 1, 0, 0, 1,\n",
      "        1, 2, 2, 1, 0, 2, 1, 0, 0, 1, 2, 2, 1, 0, 0, 1, 1, 0, 2, 1, 2, 1, 1, 1,\n",
      "        1, 1, 2, 2, 1, 0, 0, 1, 0, 1, 1, 0, 0, 2, 2, 2, 1, 2, 1, 1, 2, 2, 2, 2,\n",
      "        1, 0, 2, 0, 2, 0, 0, 1, 0, 1, 2, 2, 0, 2, 1, 0, 2, 0, 2, 1, 0, 2, 0, 0,\n",
      "        1, 1, 0, 1, 1, 0, 2, 0, 2, 0, 1, 0, 2, 2, 2, 1, 1, 0, 0, 2, 2, 2, 2, 2,\n",
      "        2, 1, 1, 2, 1, 1, 0, 0])\n"
     ]
    }
   ],
   "source": [
    "import torchmetrics\n",
    "\n",
    "acc = torchmetrics.Accuracy(task=\"multiclass\", num_classes=3)\n",
    "\n",
    "accuracy = acc(output, inp[1])\n",
    "\n",
    "print(accuracy)\n",
    "print(inp[1])"
   ]
  },
  {
   "cell_type": "code",
   "execution_count": 5,
   "metadata": {},
   "outputs": [
    {
     "name": "stdout",
     "output_type": "stream",
     "text": [
      "69\n"
     ]
    }
   ],
   "source": [
    "from B_data.ii_db_management import db_coin_list\n",
    "\n",
    "from omegaconf import OmegaConf\n",
    "\n",
    "data_config = OmegaConf.load('/home/kyuholee/SPD_ver_3/A_config/data_config.yaml')\n",
    "\n",
    "print(len(db_coin_list(data_config)))"
   ]
  },
  {
   "cell_type": "code",
   "execution_count": 3,
   "metadata": {},
   "outputs": [
    {
     "name": "stdout",
     "output_type": "stream",
     "text": [
      "/home/kyuholee/SPD_ver_3\n"
     ]
    },
    {
     "name": "stderr",
     "output_type": "stream",
     "text": [
      "Trainer will use only 1 of 4 GPUs because it is running inside an interactive / notebook environment. You may try to set `Trainer(devices=4)` but please note that multi-GPU inside interactive / notebook environments is considered experimental and unstable. Your mileage may vary.\n",
      "GPU available: True (cuda), used: True\n",
      "TPU available: False, using: 0 TPU cores\n",
      "IPU available: False, using: 0 IPUs\n",
      "HPU available: False, using: 0 HPUs\n",
      "/opt/conda/lib/python3.10/site-packages/lightning/pytorch/trainer/connectors/logger_connector/logger_connector.py:67: Starting from v1.9.0, `tensorboardX` has been removed as a dependency of the `lightning.pytorch` package, due to potential conflicts with other packages in the ML ecosystem. For this reason, `logger=True` will use `CSVLogger` as the default logger, unless the `tensorboard` or `tensorboardX` packages are found. Please `pip install lightning[extra]` or one of them to enable TensorBoard support by default\n",
      "LOCAL_RANK: 0 - CUDA_VISIBLE_DEVICES: [0,1,2,3]\n"
     ]
    },
    {
     "data": {
      "application/vnd.jupyter.widget-view+json": {
       "model_id": "323dbc6b47704697848d49068c2d1831",
       "version_major": 2,
       "version_minor": 0
      },
      "text/plain": [
       "Predicting: |          | 0/? [00:00<?, ?it/s]"
      ]
     },
     "metadata": {},
     "output_type": "display_data"
    }
   ],
   "source": [
    "%cd /home/kyuholee/SPD_ver_3\n",
    "from B_data.iii_datamodule import BackTestDataModule\n",
    "from C_model.i_transformer import TransformerModule\n",
    "\n",
    "from omegaconf import OmegaConf\n",
    "import lightning.pytorch as pl\n",
    "\n",
    "config = OmegaConf.load('/home/kyuholee/SPD_ver_3/A_config/exp_4/setting3.yaml')\n",
    "data_config = OmegaConf.load('/home/kyuholee/SPD_ver_3/A_config/data_config.yaml')\n",
    "\n",
    "A = BackTestDataModule(config, data_config, 'BTCUSDT', [2023, 6, 1, 10], [2023, 7, 1, 10])\n",
    "A.setup()\n",
    "\n",
    "\n",
    "model = TransformerModule.load_from_checkpoint(f'{data_config.path.result_path}/{config.name}/setting{config.num}.ckpt')\n",
    "\n",
    "trainer = pl.Trainer(logger=None, use_distributed_sampler=False)\n",
    "predictions = trainer.predict(model=model, datamodule=A)\n"
   ]
  },
  {
   "cell_type": "code",
   "execution_count": 6,
   "metadata": {},
   "outputs": [
    {
     "name": "stdout",
     "output_type": "stream",
     "text": [
      "(tensor([100]), 1)\n"
     ]
    }
   ],
   "source": [
    "print(predictions[0])"
   ]
  },
  {
   "cell_type": "code",
   "execution_count": 42,
   "metadata": {},
   "outputs": [
    {
     "name": "stdout",
     "output_type": "stream",
     "text": [
      "[1, 2, 3, 4]\n"
     ]
    }
   ],
   "source": [
    "import numpy as np\n",
    "\n",
    "k = np.array([1,2,3,4])\n",
    "\n",
    "print(list(k))"
   ]
  }
 ],
 "metadata": {
  "kernelspec": {
   "display_name": "base",
   "language": "python",
   "name": "python3"
  },
  "language_info": {
   "codemirror_mode": {
    "name": "ipython",
    "version": 3
   },
   "file_extension": ".py",
   "mimetype": "text/x-python",
   "name": "python",
   "nbconvert_exporter": "python",
   "pygments_lexer": "ipython3",
   "version": "3.10.12"
  }
 },
 "nbformat": 4,
 "nbformat_minor": 2
}
